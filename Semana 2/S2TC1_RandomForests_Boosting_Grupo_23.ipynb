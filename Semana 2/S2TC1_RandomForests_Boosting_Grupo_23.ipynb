{
 "cells": [
  {
   "cell_type": "markdown",
   "metadata": {},
   "source": [
    "![image info](https://raw.githubusercontent.com/albahnsen/MIAD_ML_and_NLP/main/images/banner_1.png)"
   ]
  },
  {
   "cell_type": "markdown",
   "metadata": {},
   "source": [
    "# Taller: Construcción e implementación de modelos Bagging, Random Forest y XGBoost\n",
    "\n",
    "En este taller podrán poner en práctica sus conocimientos sobre la construcción e implementación de modelos de Bagging, Random Forest y XGBoost. El taller está constituido por 8 puntos, en los cuales deberan seguir las intrucciones de cada numeral para su desarrollo."
   ]
  },
  {
   "cell_type": "markdown",
   "metadata": {},
   "source": [
    "## Datos predicción precio de automóviles\n",
    "\n",
    "En este taller se usará el conjunto de datos de Car Listings de Kaggle donde cada observación representa el precio de un automóvil teniendo en cuenta distintas variables como año, marca, modelo, entre otras. El objetivo es predecir el precio del automóvil. Para más detalles puede visitar el siguiente enlace: [datos](https://www.kaggle.com/jpayne/852k-used-car-listings)."
   ]
  },
  {
   "cell_type": "code",
   "execution_count": 1,
   "metadata": {},
   "outputs": [],
   "source": [
    "import warnings\n",
    "warnings.filterwarnings('ignore')"
   ]
  },
  {
   "cell_type": "code",
   "execution_count": 2,
   "metadata": {},
   "outputs": [
    {
     "data": {
      "text/html": [
       "<div>\n",
       "<style scoped>\n",
       "    .dataframe tbody tr th:only-of-type {\n",
       "        vertical-align: middle;\n",
       "    }\n",
       "\n",
       "    .dataframe tbody tr th {\n",
       "        vertical-align: top;\n",
       "    }\n",
       "\n",
       "    .dataframe thead th {\n",
       "        text-align: right;\n",
       "    }\n",
       "</style>\n",
       "<table border=\"1\" class=\"dataframe\">\n",
       "  <thead>\n",
       "    <tr style=\"text-align: right;\">\n",
       "      <th></th>\n",
       "      <th>Price</th>\n",
       "      <th>Year</th>\n",
       "      <th>Mileage</th>\n",
       "      <th>M_Camry</th>\n",
       "      <th>M_Camry4dr</th>\n",
       "      <th>M_CamryBase</th>\n",
       "      <th>M_CamryL</th>\n",
       "      <th>M_CamryLE</th>\n",
       "      <th>M_CamrySE</th>\n",
       "      <th>M_CamryXLE</th>\n",
       "    </tr>\n",
       "  </thead>\n",
       "  <tbody>\n",
       "    <tr>\n",
       "      <th>7</th>\n",
       "      <td>21995</td>\n",
       "      <td>2014</td>\n",
       "      <td>6480</td>\n",
       "      <td>False</td>\n",
       "      <td>False</td>\n",
       "      <td>False</td>\n",
       "      <td>True</td>\n",
       "      <td>False</td>\n",
       "      <td>False</td>\n",
       "      <td>False</td>\n",
       "    </tr>\n",
       "    <tr>\n",
       "      <th>11</th>\n",
       "      <td>13995</td>\n",
       "      <td>2014</td>\n",
       "      <td>39972</td>\n",
       "      <td>False</td>\n",
       "      <td>False</td>\n",
       "      <td>False</td>\n",
       "      <td>False</td>\n",
       "      <td>True</td>\n",
       "      <td>False</td>\n",
       "      <td>False</td>\n",
       "    </tr>\n",
       "    <tr>\n",
       "      <th>167</th>\n",
       "      <td>17941</td>\n",
       "      <td>2016</td>\n",
       "      <td>18989</td>\n",
       "      <td>False</td>\n",
       "      <td>False</td>\n",
       "      <td>False</td>\n",
       "      <td>False</td>\n",
       "      <td>False</td>\n",
       "      <td>True</td>\n",
       "      <td>False</td>\n",
       "    </tr>\n",
       "    <tr>\n",
       "      <th>225</th>\n",
       "      <td>12493</td>\n",
       "      <td>2014</td>\n",
       "      <td>51330</td>\n",
       "      <td>False</td>\n",
       "      <td>False</td>\n",
       "      <td>False</td>\n",
       "      <td>True</td>\n",
       "      <td>False</td>\n",
       "      <td>False</td>\n",
       "      <td>False</td>\n",
       "    </tr>\n",
       "    <tr>\n",
       "      <th>270</th>\n",
       "      <td>7994</td>\n",
       "      <td>2007</td>\n",
       "      <td>116065</td>\n",
       "      <td>False</td>\n",
       "      <td>True</td>\n",
       "      <td>False</td>\n",
       "      <td>False</td>\n",
       "      <td>False</td>\n",
       "      <td>False</td>\n",
       "      <td>False</td>\n",
       "    </tr>\n",
       "  </tbody>\n",
       "</table>\n",
       "</div>"
      ],
      "text/plain": [
       "     Price  Year  Mileage  M_Camry  M_Camry4dr  M_CamryBase  M_CamryL  \\\n",
       "7    21995  2014     6480    False       False        False      True   \n",
       "11   13995  2014    39972    False       False        False     False   \n",
       "167  17941  2016    18989    False       False        False     False   \n",
       "225  12493  2014    51330    False       False        False      True   \n",
       "270   7994  2007   116065    False        True        False     False   \n",
       "\n",
       "     M_CamryLE  M_CamrySE  M_CamryXLE  \n",
       "7        False      False       False  \n",
       "11        True      False       False  \n",
       "167      False       True       False  \n",
       "225      False      False       False  \n",
       "270      False      False       False  "
      ]
     },
     "execution_count": 2,
     "metadata": {},
     "output_type": "execute_result"
    }
   ],
   "source": [
    "# Importación de librerías\n",
    "%matplotlib inline\n",
    "import pandas as pd\n",
    "import numpy as np\n",
    "import matplotlib.pyplot as plt\n",
    "from sklearn.tree import DecisionTreeRegressor\n",
    "from sklearn.metrics import mean_squared_error, mean_absolute_error\n",
    "from sklearn.ensemble import BaggingRegressor\n",
    "from sklearn.ensemble import RandomForestRegressor\n",
    "from sklearn.model_selection import cross_val_score\n",
    "from xgboost import XGBRegressor\n",
    "from sklearn.model_selection import GridSearchCV\n",
    "\n",
    "\n",
    "# Lectura de la información de archivo .csv\n",
    "data = pd.read_csv('https://raw.githubusercontent.com/albahnsen/MIAD_ML_and_NLP/main/datasets/dataTrain_carListings.zip')\n",
    "\n",
    "# Preprocesamiento de datos para el taller\n",
    "data = data.loc[data['Model'].str.contains('Camry')].drop(['Make', 'State'], axis=1)\n",
    "data = data.join(pd.get_dummies(data['Model'], prefix='M'))\n",
    "data = data.drop(['Model'], axis=1)\n",
    "\n",
    "# Visualización dataset\n",
    "data.head()"
   ]
  },
  {
   "cell_type": "code",
   "execution_count": 3,
   "metadata": {},
   "outputs": [],
   "source": [
    "# Separación de variables predictoras (X) y variable de interés (y)\n",
    "y = data['Price']\n",
    "X = data.drop(['Price'], axis=1)\n",
    "\n",
    "X['M_Camry'] = pd.factorize(X.M_Camry)[0]\n",
    "X['M_Camry4dr'] = pd.factorize(X.M_Camry4dr)[0]\n",
    "X['M_CamryBase'] = pd.factorize(X.M_CamryBase)[0]\n",
    "X['M_CamryL'] = pd.factorize(X.M_CamryL)[0]\n",
    "X['M_CamryLE'] = pd.factorize(X.M_CamryLE)[0]\n",
    "X['M_CamrySE'] = pd.factorize(X.M_CamrySE)[0]\n",
    "X['M_CamryXLE'] = pd.factorize(X.M_CamryXLE)[0]"
   ]
  },
  {
   "cell_type": "code",
   "execution_count": 4,
   "metadata": {},
   "outputs": [
    {
     "data": {
      "text/html": [
       "<div>\n",
       "<style scoped>\n",
       "    .dataframe tbody tr th:only-of-type {\n",
       "        vertical-align: middle;\n",
       "    }\n",
       "\n",
       "    .dataframe tbody tr th {\n",
       "        vertical-align: top;\n",
       "    }\n",
       "\n",
       "    .dataframe thead th {\n",
       "        text-align: right;\n",
       "    }\n",
       "</style>\n",
       "<table border=\"1\" class=\"dataframe\">\n",
       "  <thead>\n",
       "    <tr style=\"text-align: right;\">\n",
       "      <th></th>\n",
       "      <th>Year</th>\n",
       "      <th>Mileage</th>\n",
       "      <th>M_Camry</th>\n",
       "      <th>M_Camry4dr</th>\n",
       "      <th>M_CamryBase</th>\n",
       "      <th>M_CamryL</th>\n",
       "      <th>M_CamryLE</th>\n",
       "      <th>M_CamrySE</th>\n",
       "      <th>M_CamryXLE</th>\n",
       "    </tr>\n",
       "  </thead>\n",
       "  <tbody>\n",
       "    <tr>\n",
       "      <th>7</th>\n",
       "      <td>2014</td>\n",
       "      <td>6480</td>\n",
       "      <td>0</td>\n",
       "      <td>0</td>\n",
       "      <td>0</td>\n",
       "      <td>0</td>\n",
       "      <td>0</td>\n",
       "      <td>0</td>\n",
       "      <td>0</td>\n",
       "    </tr>\n",
       "    <tr>\n",
       "      <th>11</th>\n",
       "      <td>2014</td>\n",
       "      <td>39972</td>\n",
       "      <td>0</td>\n",
       "      <td>0</td>\n",
       "      <td>0</td>\n",
       "      <td>1</td>\n",
       "      <td>1</td>\n",
       "      <td>0</td>\n",
       "      <td>0</td>\n",
       "    </tr>\n",
       "    <tr>\n",
       "      <th>167</th>\n",
       "      <td>2016</td>\n",
       "      <td>18989</td>\n",
       "      <td>0</td>\n",
       "      <td>0</td>\n",
       "      <td>0</td>\n",
       "      <td>1</td>\n",
       "      <td>0</td>\n",
       "      <td>1</td>\n",
       "      <td>0</td>\n",
       "    </tr>\n",
       "    <tr>\n",
       "      <th>225</th>\n",
       "      <td>2014</td>\n",
       "      <td>51330</td>\n",
       "      <td>0</td>\n",
       "      <td>0</td>\n",
       "      <td>0</td>\n",
       "      <td>0</td>\n",
       "      <td>0</td>\n",
       "      <td>0</td>\n",
       "      <td>0</td>\n",
       "    </tr>\n",
       "    <tr>\n",
       "      <th>270</th>\n",
       "      <td>2007</td>\n",
       "      <td>116065</td>\n",
       "      <td>0</td>\n",
       "      <td>1</td>\n",
       "      <td>0</td>\n",
       "      <td>1</td>\n",
       "      <td>0</td>\n",
       "      <td>0</td>\n",
       "      <td>0</td>\n",
       "    </tr>\n",
       "    <tr>\n",
       "      <th>...</th>\n",
       "      <td>...</td>\n",
       "      <td>...</td>\n",
       "      <td>...</td>\n",
       "      <td>...</td>\n",
       "      <td>...</td>\n",
       "      <td>...</td>\n",
       "      <td>...</td>\n",
       "      <td>...</td>\n",
       "      <td>...</td>\n",
       "    </tr>\n",
       "    <tr>\n",
       "      <th>399845</th>\n",
       "      <td>2017</td>\n",
       "      <td>7542</td>\n",
       "      <td>0</td>\n",
       "      <td>0</td>\n",
       "      <td>0</td>\n",
       "      <td>1</td>\n",
       "      <td>0</td>\n",
       "      <td>1</td>\n",
       "      <td>0</td>\n",
       "    </tr>\n",
       "    <tr>\n",
       "      <th>399928</th>\n",
       "      <td>2014</td>\n",
       "      <td>49685</td>\n",
       "      <td>0</td>\n",
       "      <td>0</td>\n",
       "      <td>0</td>\n",
       "      <td>1</td>\n",
       "      <td>0</td>\n",
       "      <td>1</td>\n",
       "      <td>0</td>\n",
       "    </tr>\n",
       "    <tr>\n",
       "      <th>399934</th>\n",
       "      <td>2009</td>\n",
       "      <td>104692</td>\n",
       "      <td>0</td>\n",
       "      <td>0</td>\n",
       "      <td>1</td>\n",
       "      <td>1</td>\n",
       "      <td>0</td>\n",
       "      <td>0</td>\n",
       "      <td>0</td>\n",
       "    </tr>\n",
       "    <tr>\n",
       "      <th>399951</th>\n",
       "      <td>2010</td>\n",
       "      <td>105077</td>\n",
       "      <td>0</td>\n",
       "      <td>1</td>\n",
       "      <td>0</td>\n",
       "      <td>1</td>\n",
       "      <td>0</td>\n",
       "      <td>0</td>\n",
       "      <td>0</td>\n",
       "    </tr>\n",
       "    <tr>\n",
       "      <th>399976</th>\n",
       "      <td>2012</td>\n",
       "      <td>50453</td>\n",
       "      <td>0</td>\n",
       "      <td>1</td>\n",
       "      <td>0</td>\n",
       "      <td>1</td>\n",
       "      <td>0</td>\n",
       "      <td>0</td>\n",
       "      <td>0</td>\n",
       "    </tr>\n",
       "  </tbody>\n",
       "</table>\n",
       "<p>10495 rows × 9 columns</p>\n",
       "</div>"
      ],
      "text/plain": [
       "        Year  Mileage  M_Camry  M_Camry4dr  M_CamryBase  M_CamryL  M_CamryLE  \\\n",
       "7       2014     6480        0           0            0         0          0   \n",
       "11      2014    39972        0           0            0         1          1   \n",
       "167     2016    18989        0           0            0         1          0   \n",
       "225     2014    51330        0           0            0         0          0   \n",
       "270     2007   116065        0           1            0         1          0   \n",
       "...      ...      ...      ...         ...          ...       ...        ...   \n",
       "399845  2017     7542        0           0            0         1          0   \n",
       "399928  2014    49685        0           0            0         1          0   \n",
       "399934  2009   104692        0           0            1         1          0   \n",
       "399951  2010   105077        0           1            0         1          0   \n",
       "399976  2012    50453        0           1            0         1          0   \n",
       "\n",
       "        M_CamrySE  M_CamryXLE  \n",
       "7               0           0  \n",
       "11              0           0  \n",
       "167             1           0  \n",
       "225             0           0  \n",
       "270             0           0  \n",
       "...           ...         ...  \n",
       "399845          1           0  \n",
       "399928          1           0  \n",
       "399934          0           0  \n",
       "399951          0           0  \n",
       "399976          0           0  \n",
       "\n",
       "[10495 rows x 9 columns]"
      ]
     },
     "execution_count": 4,
     "metadata": {},
     "output_type": "execute_result"
    }
   ],
   "source": [
    "X"
   ]
  },
  {
   "cell_type": "code",
   "execution_count": 5,
   "metadata": {},
   "outputs": [],
   "source": [
    "# Separación de datos en set de entrenamiento y test\n",
    "from sklearn.model_selection import train_test_split\n",
    "X_train, X_test, y_train, y_test = train_test_split(X, y, test_size=0.33, random_state=42)"
   ]
  },
  {
   "cell_type": "code",
   "execution_count": 6,
   "metadata": {},
   "outputs": [
    {
     "data": {
      "text/html": [
       "<div>\n",
       "<style scoped>\n",
       "    .dataframe tbody tr th:only-of-type {\n",
       "        vertical-align: middle;\n",
       "    }\n",
       "\n",
       "    .dataframe tbody tr th {\n",
       "        vertical-align: top;\n",
       "    }\n",
       "\n",
       "    .dataframe thead th {\n",
       "        text-align: right;\n",
       "    }\n",
       "</style>\n",
       "<table border=\"1\" class=\"dataframe\">\n",
       "  <thead>\n",
       "    <tr style=\"text-align: right;\">\n",
       "      <th></th>\n",
       "      <th>Year</th>\n",
       "      <th>Mileage</th>\n",
       "      <th>M_Camry</th>\n",
       "      <th>M_Camry4dr</th>\n",
       "      <th>M_CamryBase</th>\n",
       "      <th>M_CamryL</th>\n",
       "      <th>M_CamryLE</th>\n",
       "      <th>M_CamrySE</th>\n",
       "      <th>M_CamryXLE</th>\n",
       "    </tr>\n",
       "  </thead>\n",
       "  <tbody>\n",
       "    <tr>\n",
       "      <th>318288</th>\n",
       "      <td>2014</td>\n",
       "      <td>39988</td>\n",
       "      <td>0</td>\n",
       "      <td>0</td>\n",
       "      <td>0</td>\n",
       "      <td>1</td>\n",
       "      <td>0</td>\n",
       "      <td>1</td>\n",
       "      <td>0</td>\n",
       "    </tr>\n",
       "    <tr>\n",
       "      <th>333638</th>\n",
       "      <td>2007</td>\n",
       "      <td>38904</td>\n",
       "      <td>0</td>\n",
       "      <td>0</td>\n",
       "      <td>0</td>\n",
       "      <td>1</td>\n",
       "      <td>1</td>\n",
       "      <td>0</td>\n",
       "      <td>0</td>\n",
       "    </tr>\n",
       "    <tr>\n",
       "      <th>234716</th>\n",
       "      <td>2016</td>\n",
       "      <td>29607</td>\n",
       "      <td>0</td>\n",
       "      <td>0</td>\n",
       "      <td>0</td>\n",
       "      <td>1</td>\n",
       "      <td>0</td>\n",
       "      <td>1</td>\n",
       "      <td>0</td>\n",
       "    </tr>\n",
       "    <tr>\n",
       "      <th>208752</th>\n",
       "      <td>2014</td>\n",
       "      <td>50756</td>\n",
       "      <td>0</td>\n",
       "      <td>0</td>\n",
       "      <td>0</td>\n",
       "      <td>1</td>\n",
       "      <td>0</td>\n",
       "      <td>1</td>\n",
       "      <td>0</td>\n",
       "    </tr>\n",
       "    <tr>\n",
       "      <th>348892</th>\n",
       "      <td>2017</td>\n",
       "      <td>10506</td>\n",
       "      <td>0</td>\n",
       "      <td>0</td>\n",
       "      <td>0</td>\n",
       "      <td>1</td>\n",
       "      <td>0</td>\n",
       "      <td>1</td>\n",
       "      <td>0</td>\n",
       "    </tr>\n",
       "    <tr>\n",
       "      <th>...</th>\n",
       "      <td>...</td>\n",
       "      <td>...</td>\n",
       "      <td>...</td>\n",
       "      <td>...</td>\n",
       "      <td>...</td>\n",
       "      <td>...</td>\n",
       "      <td>...</td>\n",
       "      <td>...</td>\n",
       "      <td>...</td>\n",
       "    </tr>\n",
       "    <tr>\n",
       "      <th>218085</th>\n",
       "      <td>2010</td>\n",
       "      <td>84057</td>\n",
       "      <td>0</td>\n",
       "      <td>0</td>\n",
       "      <td>0</td>\n",
       "      <td>1</td>\n",
       "      <td>1</td>\n",
       "      <td>0</td>\n",
       "      <td>0</td>\n",
       "    </tr>\n",
       "    <tr>\n",
       "      <th>198455</th>\n",
       "      <td>2012</td>\n",
       "      <td>93770</td>\n",
       "      <td>0</td>\n",
       "      <td>1</td>\n",
       "      <td>0</td>\n",
       "      <td>1</td>\n",
       "      <td>0</td>\n",
       "      <td>0</td>\n",
       "      <td>0</td>\n",
       "    </tr>\n",
       "    <tr>\n",
       "      <th>205572</th>\n",
       "      <td>2010</td>\n",
       "      <td>88644</td>\n",
       "      <td>0</td>\n",
       "      <td>0</td>\n",
       "      <td>1</td>\n",
       "      <td>1</td>\n",
       "      <td>0</td>\n",
       "      <td>0</td>\n",
       "      <td>0</td>\n",
       "    </tr>\n",
       "    <tr>\n",
       "      <th>33541</th>\n",
       "      <td>2015</td>\n",
       "      <td>26180</td>\n",
       "      <td>0</td>\n",
       "      <td>0</td>\n",
       "      <td>0</td>\n",
       "      <td>1</td>\n",
       "      <td>0</td>\n",
       "      <td>1</td>\n",
       "      <td>0</td>\n",
       "    </tr>\n",
       "    <tr>\n",
       "      <th>274804</th>\n",
       "      <td>2017</td>\n",
       "      <td>18254</td>\n",
       "      <td>0</td>\n",
       "      <td>0</td>\n",
       "      <td>0</td>\n",
       "      <td>1</td>\n",
       "      <td>0</td>\n",
       "      <td>1</td>\n",
       "      <td>0</td>\n",
       "    </tr>\n",
       "  </tbody>\n",
       "</table>\n",
       "<p>7031 rows × 9 columns</p>\n",
       "</div>"
      ],
      "text/plain": [
       "        Year  Mileage  M_Camry  M_Camry4dr  M_CamryBase  M_CamryL  M_CamryLE  \\\n",
       "318288  2014    39988        0           0            0         1          0   \n",
       "333638  2007    38904        0           0            0         1          1   \n",
       "234716  2016    29607        0           0            0         1          0   \n",
       "208752  2014    50756        0           0            0         1          0   \n",
       "348892  2017    10506        0           0            0         1          0   \n",
       "...      ...      ...      ...         ...          ...       ...        ...   \n",
       "218085  2010    84057        0           0            0         1          1   \n",
       "198455  2012    93770        0           1            0         1          0   \n",
       "205572  2010    88644        0           0            1         1          0   \n",
       "33541   2015    26180        0           0            0         1          0   \n",
       "274804  2017    18254        0           0            0         1          0   \n",
       "\n",
       "        M_CamrySE  M_CamryXLE  \n",
       "318288          1           0  \n",
       "333638          0           0  \n",
       "234716          1           0  \n",
       "208752          1           0  \n",
       "348892          1           0  \n",
       "...           ...         ...  \n",
       "218085          0           0  \n",
       "198455          0           0  \n",
       "205572          0           0  \n",
       "33541           1           0  \n",
       "274804          1           0  \n",
       "\n",
       "[7031 rows x 9 columns]"
      ]
     },
     "execution_count": 6,
     "metadata": {},
     "output_type": "execute_result"
    }
   ],
   "source": [
    "X_train"
   ]
  },
  {
   "cell_type": "markdown",
   "metadata": {},
   "source": [
    "### Punto 1 - Árbol de decisión manual\n",
    "\n",
    "En la celda 1 creen un árbol de decisión **manualmente**  que considere los set de entrenamiento y test definidos anteriormente y presenten el RMSE y MAE del modelo en el set de test."
   ]
  },
  {
   "cell_type": "code",
   "execution_count": 7,
   "metadata": {},
   "outputs": [
    {
     "name": "stdout",
     "output_type": "stream",
     "text": [
      "RMSE el modelo manual: 3912.108137680816\n",
      "MAE del modelo manual: 3111.622230591807\n"
     ]
    }
   ],
   "source": [
    "# Definición de la clase DecisionTree\n",
    "class DecisionTree:\n",
    "    def __init__(self, j=None, split=None, value=None):\n",
    "        self.j = j          # índice de la característica (columna) en la que se divide\n",
    "        self.split = split  # valor de corte\n",
    "        self.value = value  # valor de predicción si es una hoja\n",
    "        self.left = None    # subárbol izquierdo\n",
    "        self.right = None   # subárbol derecho\n",
    "# Definición de la función gini_impurity para calcular la impureza de Gini\n",
    "def gini_impurity(X_column, y, split):\n",
    "    # Calcula la impureza de Gini para un nodo dado\n",
    "    left_mask = X_column < split\n",
    "    right_mask = ~left_mask\n",
    "    # Número de muestras en cada lado del split\n",
    "    n_left = np.sum(left_mask)\n",
    "    n_right = np.sum(right_mask)\n",
    "    # Calcula la proporción de muestras de cada clase en cada lado del split\n",
    "    p_left = np.sum(y[left_mask] == 1) / n_left\n",
    "    p_right = np.sum(y[right_mask] == 1) / n_right\n",
    "    # Calcula la impureza de Gini\n",
    "    impurity_left = 1 - p_left ** 2 - (1 - p_left) ** 2 if n_left > 0 else 0\n",
    "    impurity_right = 1 - p_right ** 2 - (1 - p_right) ** 2 if n_right > 0 else 0\n",
    "    # Combina la impureza de cada lado ponderada por el número de muestras\n",
    "    total_samples = n_left + n_right\n",
    "    gini = (n_left / total_samples) * impurity_left + (n_right / total_samples) * impurity_right\n",
    "    return gini\n",
    "# Definición de la función best_split para calcular la mejor división de un nodo\n",
    "def best_split(X, y, num_pct=10):\n",
    "    features = range(X.shape[1])\n",
    "    best_split = [0, 0, 0]  # j, split, gain\n",
    "    for j in features:\n",
    "        splits = np.percentile(X.iloc[:, j], np.arange(0, 100, 100.0 / (num_pct + 1)).tolist())\n",
    "        splits = np.unique(splits)[1:]\n",
    "        for split in splits:\n",
    "            gain = gini_impurity(X.iloc[:, j], y, split)\n",
    "            if gain > best_split[2]:\n",
    "                best_split = [j, split, gain]\n",
    "    return best_split\n",
    "# Entrenar el árbol\n",
    "def train_tree(X, y, level=0, min_gain=0.001, max_depth=None, num_pct=10):\n",
    "    if X.shape[0] == 1:\n",
    "        tree = DecisionTree()\n",
    "        tree.value = y.mean()\n",
    "        return tree\n",
    "    j, split, gain = best_split(X, y, num_pct)\n",
    "    if gain < min_gain:\n",
    "        tree = DecisionTree()\n",
    "        tree.value = y.mean()\n",
    "        return tree\n",
    "    if max_depth is not None:\n",
    "        if level >= max_depth:\n",
    "            tree = DecisionTree()\n",
    "            tree.value = y.mean()\n",
    "            return tree\n",
    "    filter_l = X.iloc[:, j] < split\n",
    "    X_l, y_l = X.loc[filter_l], y.loc[filter_l]\n",
    "    X_r, y_r = X.loc[~filter_l], y.loc[~filter_l]\n",
    "    tree = DecisionTree(j, split)\n",
    "    tree.left = train_tree(X_l, y_l, level + 1, min_gain, max_depth, num_pct)\n",
    "    tree.right = train_tree(X_r, y_r, level + 1, min_gain, max_depth, num_pct)\n",
    "    return tree\n",
    "# Definición de la función predict_tree para hacer predicciones con el árbol entrenado\n",
    "def predict_tree(tree, x):\n",
    "    if tree.value is not None:\n",
    "        return tree.value\n",
    "    elif x[tree.j] < tree.split:\n",
    "        return predict_tree(tree.left, x)\n",
    "    else:\n",
    "        return predict_tree(tree.right, x)\n",
    "\n",
    "# Entrenar el árbol\n",
    "tree_manual = train_tree(X_train, y_train, max_depth=6, num_pct=10)\n",
    "# Hacer predicciones sobre el conjunto de prueba\n",
    "y_pred_test = [predict_tree(tree_manual, x) for _, x in X_test.iterrows()]\n",
    "# Calcular el error cuadrático medio (RMSE) y el error absoluto medio (MAE)\n",
    "rmse_treeman = np.sqrt(mean_squared_error(y_test, y_pred_test))\n",
    "mae_treeman = mean_absolute_error(y_test, y_pred_test)\n",
    "print(\"RMSE el modelo manual:\", rmse_treeman)\n",
    "print(\"MAE del modelo manual:\", mae_treeman)"
   ]
  },
  {
   "cell_type": "markdown",
   "metadata": {},
   "source": [
    "### Punto 2 - Bagging manual\n",
    "\n",
    "En la celda 2 creen un modelo bagging **manualmente** con 10 árboles de regresión y comenten sobre el desempeño del modelo."
   ]
  },
  {
   "cell_type": "code",
   "execution_count": 8,
   "metadata": {},
   "outputs": [
    {
     "data": {
      "text/plain": [
       "[array([5157,  235, 3980, ..., 5885, 6315, 1042]),\n",
       " array([1355, 2413, 2767, ..., 6766, 5653, 5649]),\n",
       " array([6521, 4510, 3100, ..., 1748, 1275, 6960]),\n",
       " array([3411,  872,  991, ..., 5725, 2067, 3268]),\n",
       " array([4307, 3515, 2971, ...,   32, 7019, 4849]),\n",
       " array([5509, 1696, 6764, ..., 6295, 5079, 2704]),\n",
       " array([2520, 5009, 2870, ..., 1879, 3963, 2014]),\n",
       " array([1599,   12, 4134, ..., 2000,  266, 6961]),\n",
       " array([3237, 5597, 6457, ..., 5232, 4138, 1392]),\n",
       " array([1687, 3011, 2474, ..., 5202, 6015, 3153])]"
      ]
     },
     "execution_count": 8,
     "metadata": {},
     "output_type": "execute_result"
    }
   ],
   "source": [
    "# Creación de 10 muestras bootstrap\n",
    "\n",
    "np.random.seed(1)\n",
    "\n",
    "n_samples = X_train.shape[0]\n",
    "n_B = 10\n",
    "\n",
    "samples = [np.random.choice(a=n_samples, size=n_samples, replace=True) for _ in range(1, n_B +1 )]\n",
    "samples"
   ]
  },
  {
   "cell_type": "code",
   "execution_count": 9,
   "metadata": {},
   "outputs": [
    {
     "data": {
      "text/html": [
       "<div>\n",
       "<style scoped>\n",
       "    .dataframe tbody tr th:only-of-type {\n",
       "        vertical-align: middle;\n",
       "    }\n",
       "\n",
       "    .dataframe tbody tr th {\n",
       "        vertical-align: top;\n",
       "    }\n",
       "\n",
       "    .dataframe thead tr th {\n",
       "        text-align: left;\n",
       "    }\n",
       "</style>\n",
       "<table border=\"1\" class=\"dataframe\">\n",
       "  <thead>\n",
       "    <tr>\n",
       "      <th></th>\n",
       "      <th>0</th>\n",
       "      <th>1</th>\n",
       "      <th>2</th>\n",
       "      <th>3</th>\n",
       "      <th>4</th>\n",
       "      <th>5</th>\n",
       "      <th>6</th>\n",
       "      <th>7</th>\n",
       "      <th>8</th>\n",
       "      <th>9</th>\n",
       "    </tr>\n",
       "  </thead>\n",
       "  <tbody>\n",
       "    <tr>\n",
       "      <th>257343</th>\n",
       "      <td>13993.0</td>\n",
       "      <td>13649.0</td>\n",
       "      <td>13990.0</td>\n",
       "      <td>13649.0</td>\n",
       "      <td>13993.0</td>\n",
       "      <td>11788.0</td>\n",
       "      <td>11788.0</td>\n",
       "      <td>11788.0</td>\n",
       "      <td>13649.0</td>\n",
       "      <td>11788.0</td>\n",
       "    </tr>\n",
       "    <tr>\n",
       "      <th>326011</th>\n",
       "      <td>6987.0</td>\n",
       "      <td>5995.0</td>\n",
       "      <td>5995.0</td>\n",
       "      <td>6987.0</td>\n",
       "      <td>5980.0</td>\n",
       "      <td>6987.0</td>\n",
       "      <td>6987.0</td>\n",
       "      <td>5995.0</td>\n",
       "      <td>5995.0</td>\n",
       "      <td>5995.0</td>\n",
       "    </tr>\n",
       "    <tr>\n",
       "      <th>242354</th>\n",
       "      <td>16491.0</td>\n",
       "      <td>16491.0</td>\n",
       "      <td>16491.0</td>\n",
       "      <td>16995.0</td>\n",
       "      <td>16509.0</td>\n",
       "      <td>16322.0</td>\n",
       "      <td>16491.0</td>\n",
       "      <td>16491.0</td>\n",
       "      <td>15995.0</td>\n",
       "      <td>16491.0</td>\n",
       "    </tr>\n",
       "    <tr>\n",
       "      <th>266376</th>\n",
       "      <td>15900.0</td>\n",
       "      <td>22500.0</td>\n",
       "      <td>21990.0</td>\n",
       "      <td>22500.0</td>\n",
       "      <td>21990.0</td>\n",
       "      <td>21990.0</td>\n",
       "      <td>15900.0</td>\n",
       "      <td>22500.0</td>\n",
       "      <td>21990.0</td>\n",
       "      <td>22500.0</td>\n",
       "    </tr>\n",
       "    <tr>\n",
       "      <th>396954</th>\n",
       "      <td>15988.0</td>\n",
       "      <td>17900.0</td>\n",
       "      <td>16951.0</td>\n",
       "      <td>15988.0</td>\n",
       "      <td>18995.0</td>\n",
       "      <td>15988.0</td>\n",
       "      <td>17900.0</td>\n",
       "      <td>16951.0</td>\n",
       "      <td>16951.0</td>\n",
       "      <td>16951.0</td>\n",
       "    </tr>\n",
       "    <tr>\n",
       "      <th>...</th>\n",
       "      <td>...</td>\n",
       "      <td>...</td>\n",
       "      <td>...</td>\n",
       "      <td>...</td>\n",
       "      <td>...</td>\n",
       "      <td>...</td>\n",
       "      <td>...</td>\n",
       "      <td>...</td>\n",
       "      <td>...</td>\n",
       "      <td>...</td>\n",
       "    </tr>\n",
       "    <tr>\n",
       "      <th>144298</th>\n",
       "      <td>14800.0</td>\n",
       "      <td>15995.0</td>\n",
       "      <td>14800.0</td>\n",
       "      <td>13970.0</td>\n",
       "      <td>15121.0</td>\n",
       "      <td>15995.0</td>\n",
       "      <td>14800.0</td>\n",
       "      <td>15995.0</td>\n",
       "      <td>13836.0</td>\n",
       "      <td>14800.0</td>\n",
       "    </tr>\n",
       "    <tr>\n",
       "      <th>364521</th>\n",
       "      <td>15700.0</td>\n",
       "      <td>14851.0</td>\n",
       "      <td>16900.0</td>\n",
       "      <td>15999.0</td>\n",
       "      <td>15999.0</td>\n",
       "      <td>14999.0</td>\n",
       "      <td>14851.0</td>\n",
       "      <td>15000.0</td>\n",
       "      <td>16900.0</td>\n",
       "      <td>14851.0</td>\n",
       "    </tr>\n",
       "    <tr>\n",
       "      <th>120072</th>\n",
       "      <td>17700.0</td>\n",
       "      <td>23533.0</td>\n",
       "      <td>23533.0</td>\n",
       "      <td>23533.0</td>\n",
       "      <td>23533.0</td>\n",
       "      <td>23533.0</td>\n",
       "      <td>23533.0</td>\n",
       "      <td>23533.0</td>\n",
       "      <td>23533.0</td>\n",
       "      <td>23533.0</td>\n",
       "    </tr>\n",
       "    <tr>\n",
       "      <th>99878</th>\n",
       "      <td>13511.0</td>\n",
       "      <td>12989.0</td>\n",
       "      <td>12991.0</td>\n",
       "      <td>10995.0</td>\n",
       "      <td>12893.0</td>\n",
       "      <td>12991.0</td>\n",
       "      <td>12991.0</td>\n",
       "      <td>12991.0</td>\n",
       "      <td>12991.0</td>\n",
       "      <td>12893.0</td>\n",
       "    </tr>\n",
       "    <tr>\n",
       "      <th>387162</th>\n",
       "      <td>11985.0</td>\n",
       "      <td>11985.0</td>\n",
       "      <td>11984.0</td>\n",
       "      <td>11985.0</td>\n",
       "      <td>10488.0</td>\n",
       "      <td>12995.0</td>\n",
       "      <td>12999.0</td>\n",
       "      <td>11985.0</td>\n",
       "      <td>9995.0</td>\n",
       "      <td>10492.0</td>\n",
       "    </tr>\n",
       "  </tbody>\n",
       "</table>\n",
       "<p>3464 rows × 10 columns</p>\n",
       "</div>"
      ],
      "text/plain": [
       "              0        1        2        3        4        5        6  \\\n",
       "257343  13993.0  13649.0  13990.0  13649.0  13993.0  11788.0  11788.0   \n",
       "326011   6987.0   5995.0   5995.0   6987.0   5980.0   6987.0   6987.0   \n",
       "242354  16491.0  16491.0  16491.0  16995.0  16509.0  16322.0  16491.0   \n",
       "266376  15900.0  22500.0  21990.0  22500.0  21990.0  21990.0  15900.0   \n",
       "396954  15988.0  17900.0  16951.0  15988.0  18995.0  15988.0  17900.0   \n",
       "...         ...      ...      ...      ...      ...      ...      ...   \n",
       "144298  14800.0  15995.0  14800.0  13970.0  15121.0  15995.0  14800.0   \n",
       "364521  15700.0  14851.0  16900.0  15999.0  15999.0  14999.0  14851.0   \n",
       "120072  17700.0  23533.0  23533.0  23533.0  23533.0  23533.0  23533.0   \n",
       "99878   13511.0  12989.0  12991.0  10995.0  12893.0  12991.0  12991.0   \n",
       "387162  11985.0  11985.0  11984.0  11985.0  10488.0  12995.0  12999.0   \n",
       "\n",
       "              7        8        9  \n",
       "257343  11788.0  13649.0  11788.0  \n",
       "326011   5995.0   5995.0   5995.0  \n",
       "242354  16491.0  15995.0  16491.0  \n",
       "266376  22500.0  21990.0  22500.0  \n",
       "396954  16951.0  16951.0  16951.0  \n",
       "...         ...      ...      ...  \n",
       "144298  15995.0  13836.0  14800.0  \n",
       "364521  15000.0  16900.0  14851.0  \n",
       "120072  23533.0  23533.0  23533.0  \n",
       "99878   12991.0  12991.0  12893.0  \n",
       "387162  11985.0   9995.0  10492.0  \n",
       "\n",
       "[3464 rows x 10 columns]"
      ]
     },
     "execution_count": 9,
     "metadata": {},
     "output_type": "execute_result"
    }
   ],
   "source": [
    "# Entrenamiento de un árbol de decisión para cada muestra boostrap\n",
    "\n",
    "treereg = DecisionTreeRegressor(max_depth=None, random_state=1)\n",
    "y_pred = pd.DataFrame(index=X_test.index, columns=[list(range(n_B))])\n",
    "\n",
    "for i, sample in enumerate(samples):\n",
    "    X_train_2 = X_train.iloc[sample, 0:]\n",
    "    y_train_2 = y_train.iloc[sample]\n",
    "    treereg.fit(X_train_2, y_train_2)\n",
    "    y_pred.iloc[:,i] = treereg.predict(X_test)\n",
    "\n",
    "y_pred"
   ]
  },
  {
   "cell_type": "code",
   "execution_count": 10,
   "metadata": {},
   "outputs": [
    {
     "name": "stdout",
     "output_type": "stream",
     "text": [
      "RMSE el modelo Bagging manual: 1778.9872466818279\n",
      "MAE del modelo Bagging manual: 1329.9931254811395\n"
     ]
    }
   ],
   "source": [
    "y_pred.mean(axis=1)\n",
    "rmse_bgg_mnl = np.sqrt(mean_squared_error(y_test, y_pred.mean(axis=1)))\n",
    "mae_bgg_mnl = mean_absolute_error(y_test, y_pred.mean(axis=1))\n",
    "\n",
    "print(\"RMSE el modelo Bagging manual:\", rmse_bgg_mnl)\n",
    "print(\"MAE del modelo Bagging manual:\", mae_bgg_mnl)"
   ]
  },
  {
   "cell_type": "markdown",
   "metadata": {},
   "source": [
    "**Respuesta 2**"
   ]
  },
  {
   "cell_type": "markdown",
   "metadata": {},
   "source": [
    "El modelo Bagging manual presenta un mejor desempeño que el árbol de decisión del punto anterior, ya que combina la predicción de 10 árboles de decisión entrenados con diferentes conjuntos de datos, lo que mejora la precisión del modelo."
   ]
  },
  {
   "cell_type": "markdown",
   "metadata": {},
   "source": [
    "### Punto 3 - Bagging con librería\n",
    "\n",
    "En la celda 3, con la librería sklearn, entrenen un modelo bagging con 10 árboles de regresión y el parámetro `max_features` igual a `log(n_features)` y comenten sobre el desempeño del modelo."
   ]
  },
  {
   "cell_type": "code",
   "execution_count": 11,
   "metadata": {},
   "outputs": [
    {
     "name": "stdout",
     "output_type": "stream",
     "text": [
      "RMSE el modelo Bagging librería: 1820.2984738449181\n",
      "MAE del modelo Bagging librería: 1361.2851149121118\n"
     ]
    }
   ],
   "source": [
    "# Celda 3\n",
    "\n",
    "n_features = X_train.shape[1]\n",
    "bagreg = BaggingRegressor(DecisionTreeRegressor(max_features=int(np.log(n_features))), n_estimators=10, \n",
    "                          random_state=1)\n",
    "\n",
    "bagreg.fit(X_train, y_train)\n",
    "y_pred = bagreg.predict(X_test)\n",
    "\n",
    "rmse_bgg_lib = np.sqrt(mean_squared_error(y_test, y_pred))\n",
    "mae_bgg_lib = mean_absolute_error(y_test, y_pred)\n",
    "\n",
    "print(\"RMSE el modelo Bagging librería:\", rmse_bgg_lib)\n",
    "print(\"MAE del modelo Bagging librería:\", mae_bgg_lib)"
   ]
  },
  {
   "cell_type": "markdown",
   "metadata": {},
   "source": [
    "**Respuesta 3**"
   ]
  },
  {
   "cell_type": "markdown",
   "metadata": {},
   "source": [
    "Se puede observar que el modelo Bagging entrenado con la librería y con el parámetro `max_features` igual a `log(n_features)` tiene un peor desempeño que el modelo realizado manualmente. Esto podría darse porque el parámetro máximo de variables para tener en cuenta en cada bifurcación no es el mejor."
   ]
  },
  {
   "cell_type": "markdown",
   "metadata": {},
   "source": [
    "### Punto 4 - Random forest con librería\n",
    "\n",
    "En la celda 4, usando la librería sklearn entrenen un modelo de Randon Forest para regresión  y comenten sobre el desempeño del modelo."
   ]
  },
  {
   "cell_type": "code",
   "execution_count": 12,
   "metadata": {},
   "outputs": [
    {
     "name": "stdout",
     "output_type": "stream",
     "text": [
      "RMSE el modelo Random Forest sin calibrar 1755.5909961992643\n",
      "MAE del modelo Random Forest sin calibrar 1307.0099154455934\n"
     ]
    }
   ],
   "source": [
    "# Celda 4\n",
    "\n",
    "regRF4 = RandomForestRegressor(random_state=1)\n",
    "regRF4.fit(X_train, y_train)\n",
    "y_pred_RF4 = regRF4.predict(X_test)\n",
    "\n",
    "rmse_RF4 = np.sqrt(mean_squared_error(y_test, y_pred_RF4))\n",
    "mae_RF4 = mean_absolute_error(y_test, y_pred_RF4)\n",
    "\n",
    "print(\"RMSE el modelo Random Forest sin calibrar\", rmse_RF4)\n",
    "print(\"MAE del modelo Random Forest sin calibrar\", mae_RF4)"
   ]
  },
  {
   "cell_type": "markdown",
   "metadata": {},
   "source": [
    "**Respuesta 4**"
   ]
  },
  {
   "cell_type": "markdown",
   "metadata": {},
   "source": [
    "Para este caso obtenemos un RMSE significativamente peor que los modelos realizados en puntos anteriores. Normalmente esta situación no debería presentarse dada la alta capacidad predictiva de los modelos Random forest, sin embargo se puede mejorar este modelo realizando una calibración óptima para los parametros del modelo. Para este punto se entrenó el modelo random Forest con los parámetros por defecto."
   ]
  },
  {
   "cell_type": "markdown",
   "metadata": {},
   "source": [
    "### Punto 5 - Calibración de parámetros Random forest\n",
    "\n",
    "En la celda 5, calibren los parámetros max_depth, max_features y n_estimators del modelo de Randon Forest para regresión, comenten sobre el desempeño del modelo y describan cómo cada parámetro afecta el desempeño del modelo."
   ]
  },
  {
   "cell_type": "code",
   "execution_count": 13,
   "metadata": {},
   "outputs": [
    {
     "data": {
      "text/plain": [
       "Text(0, 0.5, 'RMSE')"
      ]
     },
     "execution_count": 13,
     "metadata": {},
     "output_type": "execute_result"
    },
    {
     "data": {
      "image/png": "[encoded data removed]",
      "text/plain": [
       "<Figure size 640x480 with 1 Axes>"
      ]
     },
     "metadata": {},
     "output_type": "display_data"
    }
   ],
   "source": [
    "# Celda 5\n",
    "\n",
    "# Calibración de n_estimators\n",
    "\n",
    "estimator_range = range(10, 510, 10)\n",
    "rmse_scores = []\n",
    "\n",
    "for estimator in estimator_range:\n",
    "    regRF5_1 = RandomForestRegressor(n_estimators=estimator, random_state=1, n_jobs=-1)\n",
    "    rmse_scores.append(cross_val_score(regRF5_1, X_train, y_train, cv=5, scoring='neg_root_mean_squared_error').mean())\n",
    "\n",
    "plt.plot(estimator_range, rmse_scores)\n",
    "plt.xlabel('n_estimators')\n",
    "plt.ylabel('RMSE')"
   ]
  },
  {
   "cell_type": "code",
   "execution_count": 14,
   "metadata": {},
   "outputs": [
    {
     "data": {
      "text/plain": [
       "Text(0, 0.5, 'RMSE')"
      ]
     },
     "execution_count": 14,
     "metadata": {},
     "output_type": "execute_result"
    },
    {
     "data": {
      "image/png": "[encoded data removed]",
      "text/plain": [
       "<Figure size 640x480 with 1 Axes>"
      ]
     },
     "metadata": {},
     "output_type": "display_data"
    }
   ],
   "source": [
    "# Calibración de max_features\n",
    "\n",
    "feature_cols = X_train.columns.tolist()\n",
    "feature_range = range(1, len(feature_cols)+1)\n",
    "\n",
    "rmse_scores2 = []\n",
    "\n",
    "for feature in feature_range:\n",
    "    regRF5_2 = RandomForestRegressor(n_estimators=98, max_features=feature, random_state=1, n_jobs=-1)\n",
    "    rmse_scores2.append(cross_val_score(regRF5_2, X_train, y_train, cv=5, scoring='neg_root_mean_squared_error').mean())\n",
    "\n",
    "plt.plot(feature_range, rmse_scores2)\n",
    "plt.xlabel('max_features')\n",
    "plt.ylabel('RMSE')"
   ]
  },
  {
   "cell_type": "code",
   "execution_count": 15,
   "metadata": {},
   "outputs": [
    {
     "name": "stdout",
     "output_type": "stream",
     "text": [
      "RMSE el modelo Random Forest calibrado 1754.9302416581834\n",
      "MAE del modelo Random Forest calibrado 1306.4888195305855\n"
     ]
    }
   ],
   "source": [
    "regRF5_def = RandomForestRegressor(n_estimators=98, max_features=9, random_state=1, n_jobs=-1)\n",
    "regRF5_def.fit(X_train, y_train)\n",
    "\n",
    "y_pred_regRF5_def = regRF5_def.predict(X_test)\n",
    "\n",
    "rmse_regRF5_def = np.sqrt(mean_squared_error(y_test, y_pred_regRF5_def))\n",
    "mae_regRF5_def = mean_absolute_error(y_test, y_pred_regRF5_def)\n",
    "\n",
    "print(\"RMSE el modelo Random Forest calibrado\", rmse_regRF5_def)\n",
    "print(\"MAE del modelo Random Forest calibrado\", mae_regRF5_def)"
   ]
  },
  {
   "cell_type": "markdown",
   "metadata": {},
   "source": [
    "**Respuesta 5**"
   ]
  },
  {
   "cell_type": "markdown",
   "metadata": {},
   "source": [
    "En este caso no se evidencia una mejora significativa en el modelo Random Forest con los parámetros calibrados con respecto al mismo modelo sin calibrar. Se puede observar que el RMSE disminuye significativamente cuando el numero de estimadores es menor a 90 aproximadamente, de 90 en adelante se puede observar que la curva se aplana, por lo cual se toma el primer pico mas alto (98) para la calibración del modelo.\n",
    "\n",
    "Posteriormente vemos como el RMSE tiene una relación inversamente proporcional al número de variables a tener en cuenta para cada una de las bifurcaciones, por lo cual se da como parámetro que se deben tener en cuenta las 9 variables predictoras del conjunto de entrenamiento.\n",
    "\n",
    "Por último se concluye que el modelo Random Forest con los parámetros calibrados, es el mejor modelo entrenado hasta el momento ya que presenta el menor RMSE."
   ]
  },
  {
   "cell_type": "markdown",
   "metadata": {},
   "source": [
    "### Punto 6 - XGBoost con librería\n",
    "\n",
    "En la celda 6 implementen un modelo XGBoost de regresión con la librería sklearn y comenten sobre el desempeño del modelo."
   ]
  },
  {
   "cell_type": "code",
   "execution_count": 16,
   "metadata": {},
   "outputs": [
    {
     "name": "stdout",
     "output_type": "stream",
     "text": [
      "RMSE el modelo XGBoost sin calibrar 1605.2355199928948\n",
      "MAE del modelo XGBoost sin calibrar 1185.2272991506386\n"
     ]
    }
   ],
   "source": [
    "# Celda 6\n",
    "\n",
    "regXGBoost = XGBRegressor()\n",
    "regXGBoost.fit(X_train, y_train)\n",
    "y_pred_regXGBoost = regXGBoost.predict(X_test)\n",
    "\n",
    "rmse_regXGBoost = np.sqrt(mean_squared_error(y_test, y_pred_regXGBoost))\n",
    "mae_regXGBoost = mean_absolute_error(y_test, y_pred_regXGBoost)\n",
    "\n",
    "print(\"RMSE el modelo XGBoost sin calibrar\", rmse_regXGBoost)\n",
    "print(\"MAE del modelo XGBoost sin calibrar\", mae_regXGBoost)"
   ]
  },
  {
   "cell_type": "markdown",
   "metadata": {},
   "source": [
    "**Respuesta 6**"
   ]
  },
  {
   "cell_type": "markdown",
   "metadata": {},
   "source": [
    "El modelo XGBoost presenta una mejora significativa en cuanto su desempeño frente a los demás modelos realizados, ya que ademas de utilizar árboles de decisión como base, mejora su rendimiento al tener en cuenta los errores de cada árbol entrenado."
   ]
  },
  {
   "cell_type": "markdown",
   "metadata": {},
   "source": [
    "### Punto 7 - Calibración de parámetros XGBoost\n",
    "\n",
    "En la celda 7 calibren los parámetros learning rate, gamma y colsample_bytree del modelo XGBoost para regresión, comenten sobre el desempeño del modelo y describan cómo cada parámetro afecta el desempeño del modelo."
   ]
  },
  {
   "cell_type": "code",
   "execution_count": 17,
   "metadata": {},
   "outputs": [
    {
     "name": "stdout",
     "output_type": "stream",
     "text": [
      "Fitting 5 folds for each of 125 candidates, totalling 625 fits\n",
      "Mejores hiperparámetros: {'colsample_bytree': 0.4, 'gamma': 0, 'learning_rate': 0.15}\n"
     ]
    }
   ],
   "source": [
    "# Celda 7\n",
    "\n",
    "# Definición del modelo XGBRegressor\n",
    "xgb_model = XGBRegressor()\n",
    "# Definición de los parámetros a ajustar\n",
    "param_grid = {\n",
    "    'learning_rate': [0.01, 0.015, 0.1, 0.15, 0.2],  # Lista de valores para learning_rate\n",
    "    'gamma': [0, 0.3, 0.4, 0.1, 0.2],  # Lista de valores para gamma\n",
    "    'colsample_bytree': [0.4, 0.6, 0.8, 1.0, 1.2]  # Lista de valores para colsample_bytree\n",
    "}\n",
    "# Búsqueda de los mejores hiperparámetros utilizando GridSearchCV\n",
    "grid_search = GridSearchCV(estimator=xgb_model, param_grid=param_grid, cv=5, scoring='neg_mean_squared_error', verbose=1)\n",
    "grid_search.fit(X_train, y_train)\n",
    "# Mejores hiperparámetros encontrados\n",
    "best_params = grid_search.best_params_\n",
    "print(\"Mejores hiperparámetros:\", best_params)"
   ]
  },
  {
   "cell_type": "code",
   "execution_count": 18,
   "metadata": {},
   "outputs": [
    {
     "name": "stdout",
     "output_type": "stream",
     "text": [
      "RMSE el modelo XGBoost sin calibrar 1545.6726589464122\n",
      "MAE del modelo XGBoost sin calibrar 1136.8145610994334\n"
     ]
    }
   ],
   "source": [
    "regXGBoost_7 = XGBRegressor(colsample_bytree=0.4, gamma=0, learning_rate=0.15)\n",
    "regXGBoost_7.fit(X_train, y_train)\n",
    "y_pred_regXGBoost_7 = regXGBoost_7.predict(X_test)\n",
    "\n",
    "rmse_regXGBoost_7 = np.sqrt(mean_squared_error(y_test, y_pred_regXGBoost_7))\n",
    "mae_regXGBoost_7 = mean_absolute_error(y_test, y_pred_regXGBoost_7)\n",
    "\n",
    "print(\"RMSE el modelo XGBoost sin calibrar\", rmse_regXGBoost_7)\n",
    "print(\"MAE del modelo XGBoost sin calibrar\", mae_regXGBoost_7)"
   ]
  },
  {
   "cell_type": "markdown",
   "metadata": {},
   "source": [
    "**Respuesta 8**"
   ]
  },
  {
   "cell_type": "markdown",
   "metadata": {},
   "source": [
    "Al tener los resultados del conjunto de hiperparámetros para ajustar un modelo XGBoostRegressor, se observa que el learning_rate de 0.1 fue el más efectivo, lo que sugiere que este valor proporciona un equilibrio adecuado entre velocidad de convergencia y precisión del modelo. Además, se encontró que el gamma óptimo fue 0, lo que indica que no fue necesario aplicar regularización adicional para la poda de árboles en el modelo. Sin embargo, en cuanto al colsample_bytree, el hiperparámetro seleccionado fue 0.4 indicando que usar un porcentaje más bajo de características por árbol condujo a un mejor rendimiento en esta instancia específica.\n",
    "\n",
    "En general, estos resultados sugieren que el learning_rate de 0.1 es una opción sólida para este conjunto de datos y modelo, y que no se requiere regularización adicional mediante el ajuste de gamma. Sin embargo, la elección del colsample_bytree puede influir en el rendimiento del modelo y puede requerir una evaluación cuidadosa según las características específicas del conjunto de datos."
   ]
  },
  {
   "cell_type": "markdown",
   "metadata": {},
   "source": [
    "### Punto 8 - Comparación y análisis de resultados\n",
    "En la celda 8 comparen los resultados obtenidos de los diferentes modelos (random forest y XGBoost) y comenten las ventajas del mejor modelo y las desventajas del modelo con el menor desempeño."
   ]
  },
  {
   "cell_type": "code",
   "execution_count": 19,
   "metadata": {},
   "outputs": [
    {
     "data": {
      "image/png": "[encoded data removed]",
      "text/plain": [
       "<Figure size 2000x600 with 1 Axes>"
      ]
     },
     "metadata": {},
     "output_type": "display_data"
    }
   ],
   "source": [
    "# Celda 8\n",
    "\n",
    "# Comparar las evaluaciones de poder predictivo de los diferentes modelos\n",
    "medidas = [ 'RMSE', 'MAE']\n",
    "modelos = {\n",
    "    'Árbol manual':[rmse_treeman, mae_treeman],\n",
    "    'Bagging Manual':[rmse_bgg_mnl, mae_bgg_mnl],\n",
    "    'Bagging librería':[rmse_bgg_lib, mae_bgg_lib],\n",
    "    'RF sin calibrar':[rmse_RF4, mae_RF4],\n",
    "    'RF calibrado':[rmse_regRF5_def, mae_regRF5_def],\n",
    "    'XGBoost sin calibrar':[rmse_regXGBoost, mae_regXGBoost],\n",
    "    'XGBoost calibrado':[rmse_regXGBoost_7, mae_regXGBoost_7]\n",
    "}\n",
    "\n",
    "# Formato de colores para las barras\n",
    "colores_modelos = ['#2B2759', '#27593D', '#592B27', '#595127', '#AE8A87', '#BCBAD9', '#BAD9C8', '#D9D4BA']\n",
    "\n",
    "# Configuración de las dimensiones de figura\n",
    "fig, ax = plt.subplots(figsize=(20, 6))\n",
    "bar_width = 0.1\n",
    "index = np.arange(len(medidas))\n",
    "\n",
    "# Graficamos las barras con el valor obtenido en cada modelo para las medidas, redondeado a 2 cifras decimales las etiquetas\n",
    "for i, (nombre_modelo, valores) in enumerate(modelos.items()):\n",
    "    etiquetas = [f'{round(valor, 2):.2f}' for valor in valores]  # Redondear valores a 2 decimales y convertir a cadena\n",
    "    ax.bar(index + i * bar_width, valores, bar_width, label=nombre_modelo, color=colores_modelos[i % len(colores_modelos)])\n",
    "    for j, etiqueta in enumerate(etiquetas):\n",
    "        ax.text(index[j] + i * bar_width, valores[j] + 0.01, etiqueta, ha='center', va='bottom')\n",
    "\n",
    "# Ajustes de la figura\n",
    "ax.set_xlabel('')\n",
    "ax.set_ylabel('Valor')\n",
    "ax.set_title('Medidas de desempeño por modelo')\n",
    "ax.set_xticks(index + (len(modelos) - 1) * bar_width / 2)\n",
    "ax.set_xticklabels(medidas)\n",
    "plt.legend(bbox_to_anchor=(1, 1), loc='upper left')\n",
    "\n",
    "# Mostrar el gráfico\n",
    "plt.tight_layout()\n",
    "plt.show()"
   ]
  },
  {
   "cell_type": "markdown",
   "metadata": {},
   "source": [
    "**Respuesta 8**\n"
   ]
  },
  {
   "cell_type": "markdown",
   "metadata": {},
   "source": [
    "Se obtiene que el mejor modelo es el XGBoost calibrado, esto se debe a que con los parámetros especificados el modelo puede encontrar un equilibrio entre sesgo y varianza, lo que reduce el sobreajuste al conjunto de datos train y generaliza mejor el modelo, esto lo hace mas preciso en las predicciones con el conjunto de datos de test.\n",
    "\n",
    "Por el contrario el modelo con el peor rendimiento es el modelo de arbol manual este resultado puede estar dado por la falta de ajustes avanzados que una librería ya tiene optimizados a su vez no se tiene la calibración adecuada de los hiperparámetros que permitan tener mayor control sobre variables como tasa de aprendizaje, profundidad de los árboles y número máximo de características a considerar en cada división, de manera que no se considera una forma óptima de realización del modelo\n",
    "\n"
   ]
  }
 ],
 "metadata": {
  "kernelspec": {
   "display_name": "Python 3 (ipykernel)",
   "language": "python",
   "name": "python3"
  },
  "language_info": {
   "codemirror_mode": {
    "name": "ipython",
    "version": 3
   },
   "file_extension": ".py",
   "mimetype": "text/x-python",
   "name": "python",
   "nbconvert_exporter": "python",
   "pygments_lexer": "ipython3",
   "version": "3.12.0"
  }
 },
 "nbformat": 4,
 "nbformat_minor": 4
}
