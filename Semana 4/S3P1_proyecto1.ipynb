{
 "cells": [
  {
   "cell_type": "markdown",
   "metadata": {},
   "source": [
    "![image info](https://raw.githubusercontent.com/davidzarruk/MIAD_ML_NLP_2023/main/images/banner_1.png)"
   ]
  },
  {
   "cell_type": "markdown",
   "metadata": {},
   "source": [
    "# Proyecto 1 - Predicción de precios de vehículos usados\n",
    "\n",
    "En este proyecto podrán poner en práctica sus conocimientos sobre modelos predictivos basados en árboles y ensambles, y sobre la disponibilización de modelos. Para su desasrrollo tengan en cuenta las instrucciones dadas en la \"Guía del proyecto 1: Predicción de precios de vehículos usados\".\n",
    "\n",
    "**Entrega**: La entrega del proyecto deberán realizarla durante la semana 4. Sin embargo, es importante que avancen en la semana 3 en el modelado del problema y en parte del informe, tal y como se les indicó en la guía.\n",
    "\n",
    "Para hacer la entrega, deberán adjuntar el informe autocontenido en PDF a la actividad de entrega del proyecto que encontrarán en la semana 4, y subir el archivo de predicciones a la [competencia de Kaggle](https://www.kaggle.com/competitions/miad2024-12-prediccion-precio-vehiculos)."
   ]
  },
  {
   "cell_type": "markdown",
   "metadata": {},
   "source": [
    "## Datos para la predicción de precios de vehículos usados\n",
    "\n",
    "En este proyecto se usará el conjunto de datos de Car Listings de Kaggle, donde cada observación representa el precio de un automóvil teniendo en cuenta distintas variables como: año, marca, modelo, entre otras. El objetivo es predecir el precio del automóvil. Para más detalles puede visitar el siguiente enlace: [datos](https://www.kaggle.com/jpayne/852k-used-car-listings)."
   ]
  },
  {
   "cell_type": "markdown",
   "metadata": {},
   "source": [
    "## Ejemplo predicción conjunto de test para envío a Kaggle\n",
    "\n",
    "En esta sección encontrarán el formato en el que deben guardar los resultados de la predicción para que puedan subirlos a la competencia en Kaggle."
   ]
  },
  {
   "cell_type": "code",
   "execution_count": 1,
   "metadata": {},
   "outputs": [],
   "source": [
    "import warnings\n",
    "warnings.filterwarnings('ignore')"
   ]
  },
  {
   "cell_type": "code",
   "execution_count": 2,
   "metadata": {},
   "outputs": [],
   "source": [
    "# Importación librerías\n",
    "import pandas as pd\n",
    "import numpy as np\n",
    "\n",
    "from sklearn.model_selection import train_test_split\n",
    "from sklearn.preprocessing import LabelEncoder\n",
    "from sklearn.metrics import mean_squared_error, mean_absolute_error\n",
    "from sklearn.ensemble import BaggingRegressor\n",
    "from sklearn.tree import DecisionTreeRegressor\n",
    "from sklearn.ensemble import RandomForestRegressor\n",
    "from sklearn.model_selection import cross_val_score\n",
    "from xgboost import XGBRegressor\n",
    "from sklearn.model_selection import GridSearchCV\n",
    "\n",
    "import seaborn as sns\n",
    "import matplotlib.pyplot as plt\n",
    "\n",
    "import joblib\n",
    "\n",
    "import os\n",
    "os.chdir('..')"
   ]
  },
  {
   "cell_type": "code",
   "execution_count": 3,
   "metadata": {},
   "outputs": [],
   "source": [
    "# Carga de datos de archivo .csv\n",
    "dataTraining = pd.read_csv('https://raw.githubusercontent.com/davidzarruk/MIAD_ML_NLP_2023/main/datasets/dataTrain_carListings.zip')\n",
    "dataTesting = pd.read_csv('https://raw.githubusercontent.com/davidzarruk/MIAD_ML_NLP_2023/main/datasets/dataTest_carListings.zip', index_col=0)"
   ]
  },
  {
   "cell_type": "code",
   "execution_count": 4,
   "metadata": {},
   "outputs": [
    {
     "data": {
      "text/html": [
       "<div>\n",
       "<style scoped>\n",
       "    .dataframe tbody tr th:only-of-type {\n",
       "        vertical-align: middle;\n",
       "    }\n",
       "\n",
       "    .dataframe tbody tr th {\n",
       "        vertical-align: top;\n",
       "    }\n",
       "\n",
       "    .dataframe thead th {\n",
       "        text-align: right;\n",
       "    }\n",
       "</style>\n",
       "<table border=\"1\" class=\"dataframe\">\n",
       "  <thead>\n",
       "    <tr style=\"text-align: right;\">\n",
       "      <th></th>\n",
       "      <th>Price</th>\n",
       "      <th>Year</th>\n",
       "      <th>Mileage</th>\n",
       "      <th>State</th>\n",
       "      <th>Make</th>\n",
       "      <th>Model</th>\n",
       "    </tr>\n",
       "  </thead>\n",
       "  <tbody>\n",
       "    <tr>\n",
       "      <th>0</th>\n",
       "      <td>34995</td>\n",
       "      <td>2017</td>\n",
       "      <td>9913</td>\n",
       "      <td>FL</td>\n",
       "      <td>Jeep</td>\n",
       "      <td>Wrangler</td>\n",
       "    </tr>\n",
       "    <tr>\n",
       "      <th>1</th>\n",
       "      <td>37895</td>\n",
       "      <td>2015</td>\n",
       "      <td>20578</td>\n",
       "      <td>OH</td>\n",
       "      <td>Chevrolet</td>\n",
       "      <td>Tahoe4WD</td>\n",
       "    </tr>\n",
       "    <tr>\n",
       "      <th>2</th>\n",
       "      <td>18430</td>\n",
       "      <td>2012</td>\n",
       "      <td>83716</td>\n",
       "      <td>TX</td>\n",
       "      <td>BMW</td>\n",
       "      <td>X5AWD</td>\n",
       "    </tr>\n",
       "    <tr>\n",
       "      <th>3</th>\n",
       "      <td>24681</td>\n",
       "      <td>2014</td>\n",
       "      <td>28729</td>\n",
       "      <td>OH</td>\n",
       "      <td>Cadillac</td>\n",
       "      <td>SRXLuxury</td>\n",
       "    </tr>\n",
       "    <tr>\n",
       "      <th>4</th>\n",
       "      <td>26998</td>\n",
       "      <td>2013</td>\n",
       "      <td>64032</td>\n",
       "      <td>CO</td>\n",
       "      <td>Jeep</td>\n",
       "      <td>Wrangler</td>\n",
       "    </tr>\n",
       "  </tbody>\n",
       "</table>\n",
       "</div>"
      ],
      "text/plain": [
       "   Price  Year  Mileage State       Make      Model\n",
       "0  34995  2017     9913    FL       Jeep   Wrangler\n",
       "1  37895  2015    20578    OH  Chevrolet   Tahoe4WD\n",
       "2  18430  2012    83716    TX        BMW      X5AWD\n",
       "3  24681  2014    28729    OH   Cadillac  SRXLuxury\n",
       "4  26998  2013    64032    CO       Jeep   Wrangler"
      ]
     },
     "execution_count": 4,
     "metadata": {},
     "output_type": "execute_result"
    }
   ],
   "source": [
    "# Visualización datos de entrenamiento\n",
    "dataTraining.head()"
   ]
  },
  {
   "cell_type": "code",
   "execution_count": 5,
   "metadata": {},
   "outputs": [
    {
     "data": {
      "text/html": [
       "<div>\n",
       "<style scoped>\n",
       "    .dataframe tbody tr th:only-of-type {\n",
       "        vertical-align: middle;\n",
       "    }\n",
       "\n",
       "    .dataframe tbody tr th {\n",
       "        vertical-align: top;\n",
       "    }\n",
       "\n",
       "    .dataframe thead th {\n",
       "        text-align: right;\n",
       "    }\n",
       "</style>\n",
       "<table border=\"1\" class=\"dataframe\">\n",
       "  <thead>\n",
       "    <tr style=\"text-align: right;\">\n",
       "      <th></th>\n",
       "      <th>Year</th>\n",
       "      <th>Mileage</th>\n",
       "      <th>State</th>\n",
       "      <th>Make</th>\n",
       "      <th>Model</th>\n",
       "    </tr>\n",
       "    <tr>\n",
       "      <th>ID</th>\n",
       "      <th></th>\n",
       "      <th></th>\n",
       "      <th></th>\n",
       "      <th></th>\n",
       "      <th></th>\n",
       "    </tr>\n",
       "  </thead>\n",
       "  <tbody>\n",
       "    <tr>\n",
       "      <th>0</th>\n",
       "      <td>2014</td>\n",
       "      <td>31909</td>\n",
       "      <td>MD</td>\n",
       "      <td>Nissan</td>\n",
       "      <td>MuranoAWD</td>\n",
       "    </tr>\n",
       "    <tr>\n",
       "      <th>1</th>\n",
       "      <td>2017</td>\n",
       "      <td>5362</td>\n",
       "      <td>FL</td>\n",
       "      <td>Jeep</td>\n",
       "      <td>Wrangler</td>\n",
       "    </tr>\n",
       "    <tr>\n",
       "      <th>2</th>\n",
       "      <td>2014</td>\n",
       "      <td>50300</td>\n",
       "      <td>OH</td>\n",
       "      <td>Ford</td>\n",
       "      <td>FlexLimited</td>\n",
       "    </tr>\n",
       "    <tr>\n",
       "      <th>3</th>\n",
       "      <td>2004</td>\n",
       "      <td>132160</td>\n",
       "      <td>WA</td>\n",
       "      <td>BMW</td>\n",
       "      <td>5</td>\n",
       "    </tr>\n",
       "    <tr>\n",
       "      <th>4</th>\n",
       "      <td>2015</td>\n",
       "      <td>25226</td>\n",
       "      <td>MA</td>\n",
       "      <td>Jeep</td>\n",
       "      <td>Grand</td>\n",
       "    </tr>\n",
       "  </tbody>\n",
       "</table>\n",
       "</div>"
      ],
      "text/plain": [
       "    Year  Mileage State    Make        Model\n",
       "ID                                          \n",
       "0   2014    31909    MD  Nissan    MuranoAWD\n",
       "1   2017     5362    FL    Jeep     Wrangler\n",
       "2   2014    50300    OH    Ford  FlexLimited\n",
       "3   2004   132160    WA     BMW            5\n",
       "4   2015    25226    MA    Jeep        Grand"
      ]
     },
     "execution_count": 5,
     "metadata": {},
     "output_type": "execute_result"
    }
   ],
   "source": [
    "# Visualización datos de test\n",
    "dataTesting.head()"
   ]
  },
  {
   "cell_type": "code",
   "execution_count": 6,
   "metadata": {},
   "outputs": [],
   "source": [
    "mapeos_codificacion = {}\n",
    "\n",
    "def var_categoricas(df):\n",
    "\n",
    "    variables_categoricas = ['State', 'Make', 'Model']\n",
    "    \n",
    "    label_encoder = LabelEncoder()\n",
    "\n",
    "    mapeos_codificacion = {}\n",
    "\n",
    "    for i in variables_categoricas:\n",
    "        df[i+'_Encod'] = label_encoder.fit_transform(df[i].astype('category')).astype(int)\n",
    "        valores_originales = df[i].unique()\n",
    "        valores_codificados = df[i+'_Encod'].unique()\n",
    "\n",
    "        mapeo = {valor_original: valor_codificado for valor_original, valor_codificado in zip(valores_originales, valores_codificados)}\n",
    "        mapeos_codificacion[i] = mapeo\n",
    "\n",
    "    df.drop(variables_categoricas, axis=1, inplace=True)\n",
    "\n",
    "    return df\n",
    "\n",
    "X_Train = dataTraining.drop([\"Price\"], axis=1)\n",
    "X_Train = var_categoricas(X_Train)\n",
    "y_Train = dataTraining['Price']\n",
    "X_Test = var_categoricas(dataTesting)"
   ]
  },
  {
   "cell_type": "markdown",
   "metadata": {},
   "source": [
    "mapeos_codificacion = {}\n",
    "\n",
    "# Inicializar el codificador de etiquetas\n",
    "label_encoder = LabelEncoder()\n",
    "variables_categoricas = ['State', 'Make', 'Model']\n",
    "\n",
    "# Iterar sobre cada variable categórica\n",
    "for columna in variables_categoricas:\n",
    "    # Codificar los valores y almacenarlos en una nueva columna\n",
    "    dataTraining[columna+'_Encod'] = label_encoder.fit_transform(dataTraining[columna].astype('category')).astype(int)\n",
    "    \n",
    "    # Obtener los valores únicos de la variable original\n",
    "    valores_originales = dataTraining[columna].unique()\n",
    "    \n",
    "    # Obtener los valores únicos codificados\n",
    "    valores_codificados = dataTraining[columna+'_Encod'].unique()\n",
    "    \n",
    "    # Crear un diccionario de mapeo para esta variable categórica\n",
    "    mapeo = {valor_original: valor_codificado for valor_original, valor_codificado in zip(valores_originales, valores_codificados)}\n",
    "    \n",
    "    # Agregar el diccionario de mapeo al diccionario principal\n",
    "    mapeos_codificacion[columna] = mapeo"
   ]
  },
  {
   "cell_type": "code",
   "execution_count": 7,
   "metadata": {},
   "outputs": [],
   "source": [
    "# Entrenamiento de los modelos\n",
    "\n",
    "xgb = BaggingRegressor(XGBRegressor(), n_estimators=10,random_state=1)\n",
    "xgb.fit(X_Train, y_Train)\n",
    "\n",
    "#bgrf = BaggingRegressor(RandomForestRegressor(n_estimators=150, max_features=3, random_state=1, n_jobs=-1), n_estimators=10,random_state=1)\n",
    "#bgrf.fit(X_Train, y_Train)"
   ]
  },
  {
   "cell_type": "code",
   "execution_count": 8,
   "metadata": {},
   "outputs": [],
   "source": [
    "joblib.dump(xgb, 'model_deployment/xgboost_price.pkl', compress=3)\n",
    "#joblib.dump(bgrf, 'model_deployment/bgg_random_forest_price.pkl', compress=3)"
   ]
  },
  {
   "cell_type": "code",
   "execution_count": 10,
   "metadata": {},
   "outputs": [
    {
     "data": {
      "text/plain": [
       "22803.658"
      ]
     },
     "execution_count": 10,
     "metadata": {},
     "output_type": "execute_result"
    }
   ],
   "source": [
    "# Importar modelo y predicción\n",
    "from model_deployment_PS4.mps4_model_deployment import precio_carro\n",
    "precio_carro(2014, 31909, 'MD', 'Nissan', 'MuranoAWD')"
   ]
  },
  {
   "cell_type": "code",
   "execution_count": null,
   "metadata": {},
   "outputs": [],
   "source": [
    "# función del archivo .py\n",
    "\n",
    "def precio_carro(year, mileage, state, make, model):\n",
    "\n",
    "    state = ' '+state\n",
    "\n",
    "    mapeo_state={' FL': 9, ' OH': 35, ' TX': 43, ' CO': 5, ' ME': 21, ' WA': 47, ' CT': 6, ' CA': 4, ' LA': 18, ' NY': 34, ' PA': 38, ' SC': 40,\n",
    "                 ' ND': 28, ' NC': 27, ' GA': 10, ' AZ': 3, ' TN': 42, ' KY': 17, ' NJ': 31, ' UT': 44, ' IA': 12, ' AL': 1, ' NE': 29, ' IL': 14,\n",
    "                 ' OK': 36, ' MD': 20, ' NV': 33, ' WV': 49, ' MI': 22, ' VA': 45, ' WI': 48, ' MA': 19, ' OR': 37, ' IN': 15, ' NM': 32, ' MO': 24,\n",
    "                 ' HI': 11, ' KS': 16, ' AR': 2, ' MN': 23, ' MS': 25, ' MT': 26, ' AK': 0, ' VT': 46, ' SD': 41, ' NH': 30, ' DE': 8, ' ID': 13,\n",
    "                 ' RI': 39, ' WY': 50, ' DC': 7}\n",
    "    \n",
    "    mapeo_make= {'Jeep': 17, 'Chevrolet': 6, 'BMW': 2, 'Cadillac': 5, 'Mercedes-Benz': 24, 'Toyota': 35, 'Buick': 4, 'Dodge': 8, 'Volkswagen': 36,\n",
    "                 'GMC': 12, 'Ford': 10, 'Hyundai': 14, 'Mitsubishi': 26, 'Honda': 13, 'Nissan': 27, 'Mazda': 23, 'Volvo': 37, 'Kia': 18, 'Subaru': 32,\n",
    "                 'Chrysler': 7, 'INFINITI': 15, 'Land': 19, 'Porsche': 29, 'Lexus': 20, 'MINI': 22, 'Lincoln': 21, 'Audi': 1, 'Ram': 30, 'Mercury': 25,\n",
    "                 'Tesla': 34, 'FIAT': 9, 'Acura': 0, 'Scion': 31, 'Pontiac': 28, 'Jaguar': 16, 'Bentley': 3, 'Suzuki': 33, 'Freightliner': 11}\n",
    "\n",
    "    mapeo_model = {'Wrangler': 489, 'Tahoe4WD': 448, 'X5AWD': 499, 'SRXLuxury': 398, '3': 11, 'C-ClassC300': 59, 'CamryL': 87, 'TacomaPreRunner': 446,\n",
    "                   'LaCrosse4dr': 272, 'ChargerSXT': 101, 'CamryLE': 88, 'Jetta': 264, 'AcadiaFWD': 38, 'EscapeSE': 169, 'SonataLimited': 419,\n",
    "                   'Santa': 400, 'Outlander': 328, 'CruzeSedan': 129, 'Civic': 104, 'CorollaL': 122, '350Z2dr': 19, 'EdgeSEL': 146, 'F-1502WD': 186,\n",
    "                   'FocusSE': 217, 'PatriotSport': 343, 'Accord': 40, 'MustangGT': 310, 'FusionHybrid': 231, 'ColoradoCrew': 113, 'Wrangler4WD': 491,\n",
    "                   'CR-VEX-L': 66, 'CTS': 72, 'CherokeeLimited': 102, 'Yukon': 518, 'Elantra': 148, 'New': 317, 'CorollaLE': 123, 'Canyon4WD': 92,\n",
    "                   'Golf': 247, 'Sonata4dr': 418, 'Elantra4dr': 149, 'PatriotLatitude': 341, 'Mazda35dr': 299, 'Tacoma2WD': 443, 'Corolla4dr': 121,\n",
    "                   'Silverado': 417, 'TerrainFWD': 458, 'EscapeFWD': 165, 'Grand': 248, 'RAV4FWD': 368, 'Liberty4WD': 280, 'FocusTitanium': 220,\n",
    "                   'DurangoAWD': 135, 'S60T5': 393, 'CivicLX': 107, 'MuranoAWD': 305, 'ForteEX': 224, 'TraverseAWD': 469, 'CamaroConvertible': 82,\n",
    "                   'Sportage2WD': 429, 'Pathfinder4WD': 337, 'Highlander4dr': 251, 'WRXSTI': 488, 'Ram': 378, 'F-150XLT': 197, 'SiennaXLE': 415,\n",
    "                   'LaCrosseFWD': 274, 'RogueFWD': 389, 'CamaroCoupe': 83, 'JourneySXT': 267, 'AccordEX-L': 42, 'Escape4WD': 163, 'OptimaEX': 323,\n",
    "                   'FusionSE': 233, '5': 27, 'F-150SuperCrew': 195, '200Limited': 6, 'Malibu': 291, 'CompassSport': 118, 'G37': 236, 'CanyonCrew': 93,\n",
    "                   'Malibu1LT': 292, 'MustangPremium': 311, 'MustangBase': 308, 'Sierra': 416, 'FlexLimited': 211, 'Tahoe2WD': 447, 'Transit': 468,\n",
    "                   'Outback2.5i': 326, 'TucsonLimited': 473, 'Rover': 390, 'CayenneAWD': 95, 'MalibuLT': 295, 'TucsonFWD': 472, 'F-150FX2': 188,\n",
    "                   'Camaro2dr': 81, 'Colorado4WD': 112, 'SonataSE': 420, 'ESES': 141, 'EnclavePremium': 155, 'CR-VEX': 65, 'F-150STX': 194,\n",
    "                   'Impreza': 261, 'EquinoxFWD': 158, 'Cooper': 120, 'Super': 438, 'Passat4dr': 335, '911': 31, 'CivicEX': 105, 'CamrySE': 89,\n",
    "                   'Highlander4WD': 250, 'Corvette2dr': 125, '200S': 7, 'PilotLX': 348, 'SorentoEX': 424, 'RioLX': 388, 'ExplorerXLT': 184,\n",
    "                   'CorvetteCoupe': 127, 'EnclaveLeather': 154, 'Avalanche4WD': 50, 'TacomaBase': 445, 'Versa5dr': 483, 'MKXFWD': 288,\n",
    "                   'SL-ClassSL500': 396, 'VeracruzFWD': 481, 'CorollaS': 124, 'PriusTwo': 358, 'CR-V2WD': 63, 'Lucerne4dr': 283, '4Runner4dr': 22,\n",
    "                   'PilotTouring': 350, 'CR-VLX': 67, 'CompassLatitude': 116, 'Altima4dr': 46, 'OptimaLX': 324, 'Focus5dr': 215, 'Charger4dr': 99,\n",
    "                   'AcadiaAWD': 37, 'JourneyFWD': 266, '7': 30, 'RX': 375, 'MalibuLS': 294, 'LSLS': 269, 'SportageLX': 432, 'Yukon4WD': 520,\n",
    "                   'SorentoLX': 425, 'TiguanSEL': 462, 'Camry4dr': 85, 'F-1504WD': 187, 'PriusBase': 353, 'AccordLX': 43, 'Q7quattro': 360, 'ExplorerLimited': 183, '4RunnerSR5': 25, 'OdysseyEX-L': 319, 'C-ClassC': 58, 'CX-9FWD': 77, 'JourneyAWD': 265, 'Sorento2WD': 423, 'F-250Lariat': 199, 'Prius': 351, 'TahoeLT': 451, '25004WD': 10, 'Escalade4dr': 161, 'GTI4dr': 242, '4RunnerRWD': 24, 'FX35AWD': 207, 'XC90T6': 507, 'Taurus4dr': 452, 'AvalonXLE': 54, '300300S': 13, 'G35': 235, 'F-150Platinum': 193, 'TerrainAWD': 457, 'GXGX': 244, 'MKXAWD': 287, 'Town': 467, 'CamryXLE': 90, 'VeracruzAWD': 480, 'FusionS': 232, 'Challenger2dr': 97, 'Tundra': 474, 'Navigator4WD': 315, 'Legacy3.6R': 279, 'GS': 239, 'E-ClassE350': 139, 'Suburban2WD': 435, 'A44dr': 34, 'RegalTurbo': 385, 'Outback3.6R': 327, '4Runner4WD': 21, 'Legacy2.5i': 278, '1': 0, 'Yukon2WD': 519, 'Explorer': 177, 'PilotEX-L': 347, '200LX': 5, 'M-ClassML350': 284, 'RAV4XLE': 372, 'WranglerSport': 494, 'Model': 302, 'FJ': 206, 'Titan': 463, 'Titan4WD': 465, 'FlexSEL': 213, 'OdysseyTouring': 321, 'SorentoSX': 426, 'RAV4Base': 367, 'OdysseyEX': 318, 'Explorer4WD': 178, 'Mustang2dr': 307, 'EdgeLimited': 144, 'FusionSEL': 234, 'Yukon4dr': 521, 'Touareg4dr': 466, 'Matrix5dr': 296, 'CTCT': 71, 'CherokeeSport': 103, '6': 29, 'Maxima4dr': 297, 'Frontier4WD': 229, 'PriusThree': 357, 'F-350XL': 204, '500Pop': 28, 'RDXAWD': 373, 'Tacoma4WD': 444, 'Optima4dr': 322, 'Q5quattro': 359, 'X3xDrive28i': 498, 'RDXFWD': 374, 'X5xDrive35i': 500, 'Malibu4dr': 293, 'ExpeditionXLT': 176, 'Ranger2WD': 379, 'Patriot4WD': 340, 'Quest4dr': 363, 'TaurusSE': 454, 'PathfinderS': 338, 'Murano2WD': 304, 'LS': 268, 'SiennaLimited': 413, 'ES': 140, 'SiennaLE': 412, 'F-150Lariat': 191, 'Titan2WD': 464, 'Durango2WD': 133, 'Tahoe4dr': 449, 'Focus4dr': 214, 'YarisBase': 516, 'TaurusLimited': 453, 'RAV44WD': 365, 'C-Class4dr': 57, 'Soul+': 427, 'TundraBase': 477, 'Expedition': 172, 'ImpalaLT': 260, 'SedonaLX': 404, 'Sequoia4WD': 406, 'ElantraLimited': 150, '15002WD': 1, 'Suburban4WD': 436, 'FiestaSE': 209, '15004WD': 2, 'TundraSR5': 479, 'Camry': 84, 'RAV4Limited': 370, 'RangerSuperCab': 381, 'MDXAWD': 286, 'RAV4LE': 369, 'ChallengerR/T': 98, 'FlexSE': 212, 'ForteLX': 225, 'TraverseFWD': 470, 'LibertySport': 282, 'ISIS': 257, 'Impala4dr': 258, 'Tundra4WD': 476, 'F-250XLT': 201, 'RXRX': 377, 'Armada2WD': 47, 'Frontier': 227, 'WranglerRubicon': 492, 'EquinoxAWD': 157, 'PilotEX': 346, 'TiguanS': 460, 'EscaladeAWD': 162, 'DTS4dr': 130, 'Pilot2WD': 344, 'Express': 185, 'PacificaLimited': 332, 'CanyonExtended': 94, 'MX5': 290, 'EscapeS': 168, 'IS': 256, 'C-ClassC350': 60, 'Compass4WD': 115, 'SportageEX': 431, 'Legacy': 277, 'E-ClassE': 137, 'Dakota4WD': 132, '300300C': 12, 'Forte': 223, 'SportageAWD': 430, 'TaurusSEL': 455, 'Xterra4WD': 512, 'GSGS': 240, 'Explorer4dr': 179, 'F-150XL': 196, 'SportageSX': 433, 'xB5dr': 523, 'TundraLimited': 478, 'CruzeLT': 128, 'Wrangler2dr': 490, 'HighlanderFWD': 253, 'Sprinter': 434, 'Highlander': 249, 'Prius5dr': 352, 'CX-9Grand': 78, 'CTS4dr': 74, 'Econoline': 143, 'AccordEX': 41, 'RAV4Sport': 371, '35004WD': 18, 'ChargerSE': 100, 'OdysseyLX': 320, 'TucsonAWD': 471, 'CX-7FWD': 75, 'AccordLX-S': 44, 'Navigator4dr': 316, 'EscapeXLT': 170, 'TiguanSE': 461, 'Cayman2dr': 96, 'TaurusSHO': 456, 'F-150FX4': 189, 'Ranger4WD': 380, 'OptimaSX': 325, 'SequoiaSR5': 410, 'G64dr': 237, 'HighlanderLimited': 254, 'ExplorerFWD': 182, 'F-350King': 202, 'PriusFive': 354, 'Yaris4dr': 515, 'PatriotLimited': 342, 'Lancer4dr': 275, 'HighlanderSE': 255, 'CompassLimited': 117, 'S2000Manual': 391, 'F-250King': 198, 'Forester2.5X': 221, 'Fusion4dr': 230, 'Frontier2WD': 228, 'FocusST': 219, 'Pathfinder2WD': 336, 'Sentra4dr': 405, 'XF4dr': 508, 'F-250XL': 200, 'PacificaTouring': 333, 'MustangDeluxe': 309, 'Caliber4dr': 80, 'GTI2dr': 241, 'Mazda34dr': 298, 'FocusS': 216, 'Sienna5dr': 411, 'CR-V4WD': 64, 'CX-9Touring': 79, 'Mazda64dr': 300, 'Forester4dr': 222, '1500Tradesman': 4, 'MDX4WD': 285, 'Escalade': 159, 'TL4dr': 439, 'CX-9AWD': 76, 'Canyon2WD': 91, 'A64dr': 35, 'A8': 36, 'Armada4WD': 48, 'Impreza2.0i': 262, 'GX': 243, 'QX564WD': 362, 'CC4dr': 62, 'MKZ4dr': 289, 'Yaris': 514, 'FitSport': 210, 'Regal4dr': 382, 'Tundra2WD': 475, 'X3AWD': 497, 'SonicSedan': 422, 'Cobalt4dr': 110, 'RidgelineRTL': 386, 'CivicSi': 108, 'AvalonLimited': 52, 'XC90FWD': 506, 'Outlander2WD': 329, 'RAV44dr': 366, 'ColoradoExtended': 114, 'ExpeditionLimited': 175, '3004dr': 14, '200Touring': 8, 'SC': 395, 'X1xDrive28i': 496, 'SonicHatch': 421, 'GLI4dr': 238, 'PilotSE': 349, 'Savana': 401, 'RegalPremium': 384, 'CR-VSE': 68, 'RegalGS': 383, 'XC90AWD': 505, 'EdgeSport': 147, 'PriusFour': 355, 'SiennaSE': 414, '1500Laramie': 3, '300Base': 15, 'Pilot4WD': 345, 'A34dr': 33, 'HighlanderBase': 252, 'Expedition4WD': 174, 'STS4dr': 399, 'SoulBase': 428, 'Xterra2WD': 511, 'CT': 70, 'tC2dr': 522, 'Tiguan2WD': 459, 'CR-ZEX': 69, 'MustangShelby': 312, 'C702dr': 61, 'WranglerX': 495, 'WranglerSahara': 493, 'DurangoSXT': 136, 'Sequoia4dr': 407, 'Outlander4WD': 330, 'Expedition2WD': 173, 'Navigator': 313, '9112dr': 32, 'Vibe4dr': 484, 'F-150King': 190, '300Limited': 16, 'XC60T6': 503, 'CivicEX-L': 106, 'Avalanche2WD': 49, 'F-350XLT': 205, 'ExplorerBase': 180, 'MuranoS': 306, 'LXLX': 271, 'EdgeSE': 145, 'ImpalaLS': 259, 'Land': 276, 'E-ClassE320': 138, 'Milan4dr': 301, 'Boxster2dr': 56, 'RAV4': 364, 'Eos2dr': 156, 'SedonaEX': 403, 'xD5dr': 524, 'Colorado2WD': 111, 'Monte': 303, 'Escape4dr': 164, 'LX': 270, 'FiestaS': 208, 'F-350Lariat': 203, 'Galant4dr': 245, 'TT2dr': 442, 'Xterra4dr': 513, 'SequoiaLimited': 408, '4RunnerLimited': 23, 'Genesis': 246, 'Suburban4dr': 437, 'EnclaveConvenience': 153, 'LaCrosseAWD': 273, 'Versa4dr': 482, 'Cobalt2dr': 109, 'XC60FWD': 502, 'F-150Limited': 192, 'Dakota2WD': 131, 'S44dr': 392, '4Runner2WD': 20, 'Sedona4dr': 402, 'RidgelineSport': 387, 'TSXAutomatic': 441, 'ImprezaSport': 263, 'SLK-ClassSLK350': 397, 'Accent4dr': 39, 'CorvetteConvertible': 126, 'Avalon4dr': 51, 'Passat': 334, '25002WD': 9, 'ExplorerEddie': 181, 'LibertyLimited': 281, 'CTS-V': 73, '4RunnerTrail': 26, 'Eclipse3dr': 142, 'Azera4dr': 55, 'TahoeLS': 450, 'Continental': 119, 'XJ4dr': 509, 'ForteSX': 226, 'SequoiaPlatinum': 409, 'FocusSEL': 218, 'Durango4dr': 134, 'CamryBase': 86, 'XC704dr': 504, 'S804dr': 394, 'Element4WD': 152, 'YarisLE': 517, 'WRXBase': 485, 'TLAutomatic': 440, 'AvalonTouring': 53, 'XK2dr': 510, 'PT': 331, 'PathfinderSE': 339, '300Touring': 17, 'Navigator2WD': 314, 'XC60AWD': 501, 'EscapeLimited': 167, 'WRXLimited': 486, 'AccordSE': 45, 'QX562WD': 361, 'Escalade2WD': 160, 'EscapeLImited': 166, 'PriusOne': 356, 'Element2WD': 151, 'Excursion137\"': 171, 'WRXPremium': 487, 'RX-84dr': 376}\n",
    "\n",
    "    state_cod = mapeo_state[state]\n",
    "    make_cod = mapeo_make[make]\n",
    "    model_cod = mapeo_model[model]\n",
    "\n",
    "    # se deben modificar los valores de este diccionario con el acceso a los modelos de los archivos plk\n",
    "    # ejemplo: clf = joblib.load(os.path.dirname(__file__) + '/phishing_clf.pkl')\n",
    "    modelos = {'xgb': xgb,\n",
    "               'bgr': bgrf}\n",
    "    \n",
    "    y_pred = pd.DataFrame(columns=modelos.keys())\n",
    "    datos = {'Year': [year],\n",
    "             'Mileage': [mileage],\n",
    "             'State_Encod': [state_cod],\n",
    "             'Make_Encod': [make_cod],\n",
    "             'Model_Encod': [model_cod]}\n",
    "    X_Test = pd.DataFrame(datos)\n",
    "    \n",
    "    for modelo in modelos.keys():\n",
    "        y_pred[modelo] = modelos[modelo].predict(X_Test)\n",
    "        price = y_pred.iloc[0].mean()\n",
    "\n",
    "    return price"
   ]
  },
  {
   "cell_type": "code",
   "execution_count": 11,
   "metadata": {},
   "outputs": [
    {
     "data": {
      "text/plain": [
       "22803.658"
      ]
     },
     "execution_count": 11,
     "metadata": {},
     "output_type": "execute_result"
    }
   ],
   "source": [
    "precio_carro(2014, 31909, 'MD', 'Nissan', 'MuranoAWD')"
   ]
  },
  {
   "cell_type": "code",
   "execution_count": null,
   "metadata": {},
   "outputs": [],
   "source": [
    "# Definición de modelos para datatesting\n",
    "models = {'xgb': xgb,\n",
    "          'bgr': bgrf}\n",
    "# Predicción de las observaciones del set de test para cada modelo\n",
    "ypred = pd.DataFrame(index=X_Test.index, columns=models.keys())\n",
    "for model in models.keys():\n",
    "    ypred[model] = models[model].predict(X_Test)\n",
    "\n",
    "ypred['Price'] = ypred[['xgb', 'bgr']].mean(axis=1)\n",
    "ypred = ypred.drop(['xgb', 'bgr'], axis=1)\n",
    "ypred.head()"
   ]
  },
  {
   "cell_type": "code",
   "execution_count": null,
   "metadata": {},
   "outputs": [],
   "source": [
    "# Exportación de predicciones:\n",
    "\n",
    "ypred.to_csv('test_submission.csv', index_label='ID')"
   ]
  },
  {
   "cell_type": "code",
   "execution_count": null,
   "metadata": {},
   "outputs": [],
   "source": [
    "bgrf.predict(X_Test)\n",
    "\n",
    "y_pred2 = pd.DataFrame(bgrf.predict(X_Test), index=dataTesting.index, columns=['Price'])\n",
    "y_pred2.to_csv('test_submission.csv', index_label='ID')"
   ]
  },
  {
   "cell_type": "markdown",
   "metadata": {},
   "source": [
    "## Disponibilizar modelo con Flask\n"
   ]
  },
  {
   "cell_type": "code",
   "execution_count": 12,
   "metadata": {},
   "outputs": [],
   "source": [
    "# Importación librerías\n",
    "from flask import Flask\n",
    "from flask_restx import Api, Resource, fields"
   ]
  },
  {
   "cell_type": "code",
   "execution_count": 14,
   "metadata": {},
   "outputs": [],
   "source": [
    "# Definición aplicación Flask\n",
    "app = Flask(__name__)\n",
    "\n",
    "# Definición API Flask\n",
    "api = Api(\n",
    "    app, \n",
    "    version='1.0', \n",
    "    title='Car Price Prediction API',\n",
    "    description='API for predicting car prices')\n",
    "\n",
    "ns = api.namespace('predict', description='Car Price Prediction Endpoint')\n",
    "\n",
    "# Definición argumentos o parámetros de la API\n",
    "parser = api.parser()\n",
    "parser.add_argument('year', type=int, required=True, help='Car year', location='args')\n",
    "parser.add_argument('mileage', type=int, required=True, help='Car mileage', location='args')\n",
    "parser.add_argument('state', type=str, required=True, help='Car state', location='args')\n",
    "parser.add_argument('make', type=str, required=True, help='Car make', location='args')\n",
    "parser.add_argument('model', type=str, required=True, help='Car model', location='args')\n",
    "\n",
    "\n",
    "resource_fields = api.model('Resource', {\n",
    "    'result': fields.String,\n",
    "})"
   ]
  },
  {
   "cell_type": "code",
   "execution_count": 15,
   "metadata": {},
   "outputs": [],
   "source": [
    "# Definición del punto final\n",
    "@ns.route('/')\n",
    "class PredictPrice(Resource):\n",
    "    @api.expect(parser)\n",
    "    @api.marshal_with(resource_fields)\n",
    "    def get(self):\n",
    "        # Obtener los parámetros de la solicitud\n",
    "        args = parser.parse_args()\n",
    "        \n",
    "        # Llamar a la función precio_carro con los parámetros obtenidos\n",
    "        result = precio_carro(args['year'], args['mileage'], args['state'], args['make'], args['model'])\n",
    "\n",
    "        # Devolver el resultado en formato JSON\n",
    "        return {'result': result}, 200"
   ]
  },
  {
   "cell_type": "code",
   "execution_count": 16,
   "metadata": {},
   "outputs": [
    {
     "name": "stdout",
     "output_type": "stream",
     "text": [
      " * Serving Flask app '__main__'\n",
      " * Debug mode: on\n"
     ]
    },
    {
     "name": "stderr",
     "output_type": "stream",
     "text": [
      "WARNING: This is a development server. Do not use it in a production deployment. Use a production WSGI server instead.\n",
      " * Running on all addresses (0.0.0.0)\n",
      " * Running on http://127.0.0.1:5000\n",
      " * Running on http://192.168.0.22:5000\n",
      "Press CTRL+C to quit\n"
     ]
    },
    {
     "name": "stderr",
     "output_type": "stream",
     "text": [
      "192.168.0.22 - - [28/Apr/2024 10:20:56] \"GET / HTTP/1.1\" 200 -\n",
      "192.168.0.22 - - [28/Apr/2024 10:20:56] \"GET /swaggerui/swagger-ui-bundle.js HTTP/1.1\" 200 -\n",
      "192.168.0.22 - - [28/Apr/2024 10:20:56] \"GET /swaggerui/droid-sans.css HTTP/1.1\" 200 -\n",
      "192.168.0.22 - - [28/Apr/2024 10:20:56] \"GET /swaggerui/swagger-ui.css HTTP/1.1\" 200 -\n",
      "192.168.0.22 - - [28/Apr/2024 10:20:56] \"GET /swaggerui/swagger-ui-standalone-preset.js HTTP/1.1\" 200 -\n",
      "192.168.0.22 - - [28/Apr/2024 10:20:56] \"GET /swagger.json HTTP/1.1\" 200 -\n",
      "192.168.0.22 - - [28/Apr/2024 10:20:56] \"GET /swaggerui/favicon-32x32.png HTTP/1.1\" 200 -\n",
      "192.168.0.22 - - [28/Apr/2024 10:25:55] \"GET /predict?year=2010&mileage=50000&state=NY&make=Toyota&model=Camry HTTP/1.1\" 308 -\n",
      "192.168.0.22 - - [28/Apr/2024 10:25:55] \"GET /predict/?year=2010&mileage=50000&state=NY&make=Toyota&model=Camry HTTP/1.1\" 200 -\n",
      "192.168.0.22 - - [28/Apr/2024 10:25:56] \"GET /favicon.ico HTTP/1.1\" 404 -\n",
      "192.168.0.22 - - [28/Apr/2024 10:27:25] \"GET /predict/?year=2014&mileage=31909&state=MD&make=Nissan&model=MuranoAWD HTTP/1.1\" 200 -\n"
     ]
    }
   ],
   "source": [
    "# Ejecución de la aplicación que disponibiliza el modelo de manera local en el puerto 5000\n",
    "app.run(debug=True, use_reloader=False, host='0.0.0.0', port=5000)"
   ]
  },
  {
   "cell_type": "markdown",
   "metadata": {},
   "source": [
    "Ejemplo de consumo api http://192.168.0.22:5000/predict/?year=2014&mileage=31909&state=MD&make=Nissan&model=MuranoAWD"
   ]
  }
 ],
 "metadata": {
  "kernelspec": {
   "display_name": "Python 3 (ipykernel)",
   "language": "python",
   "name": "python3"
  },
  "language_info": {
   "codemirror_mode": {
    "name": "ipython",
    "version": 3
   },
   "file_extension": ".py",
   "mimetype": "text/x-python",
   "name": "python",
   "nbconvert_exporter": "python",
   "pygments_lexer": "ipython3",
   "version": "3.12.0"
  }
 },
 "nbformat": 4,
 "nbformat_minor": 4
}
